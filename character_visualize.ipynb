{
 "cells": [
  {
   "cell_type": "markdown",
   "metadata": {},
   "source": [
    "Character Visualizer shows electrodes x time for individual characters"
   ]
  },
  {
   "cell_type": "code",
   "execution_count": 1,
   "metadata": {},
   "outputs": [],
   "source": [
    "import os\n",
    "import numpy as np\n",
    "import scipy.io\n",
    "import scipy.ndimage.filters\n",
    "import matplotlib.pyplot as plt\n",
    "from characterDefinitions import getHandwritingCharacterDefinitions\n",
    "from dataPreprocessing import normalizeSentenceDataCube\n"
   ]
  },
  {
   "cell_type": "code",
   "execution_count": 2,
   "metadata": {},
   "outputs": [],
   "source": [
    "\n",
    "# rootDir = os.path.expanduser('~') + '/handwritingBCIData/'\n",
    "rootDir = './'\n",
    "\n",
    "\n",
    "\n",
    "#this line ensures that tensorflow will only use GPU 0 (keeps it from taking over all the GPUs in a multi-gpu setup)\n",
    "os.environ[\"CUDA_VISIBLE_DEVICES\"]='0'\n",
    "\n",
    "#defines all the sessions that will be time-warped\n",
    "dataDirs = ['t5.2019.05.08','t5.2019.11.25','t5.2019.12.09','t5.2019.12.11','t5.2019.12.18',\n",
    "            't5.2019.12.20','t5.2020.01.06','t5.2020.01.08','t5.2020.01.13','t5.2020.01.15']\n",
    "\n",
    "charDef = getHandwritingCharacterDefinitions()\n"
   ]
  },
  {
   "cell_type": "code",
   "execution_count": 40,
   "metadata": {},
   "outputs": [
    {
     "name": "stdout",
     "output_type": "stream",
     "text": [
      "t5.2019.05.08\n",
      "t5.2019.11.25\n",
      "t5.2019.12.09\n",
      "t5.2019.12.11\n",
      "t5.2019.12.18\n",
      "t5.2019.12.20\n",
      "t5.2020.01.06\n",
      "t5.2020.01.08\n",
      "t5.2020.01.13\n",
      "t5.2020.01.15\n"
     ]
    }
   ],
   "source": [
    "from logging import root\n",
    "import os\n",
    "\n",
    "for dataDir in dataDirs:\n",
    "    \n",
    "    # dat = scipy.io.loadmat(rootDir+'Datasets/'+dataDir+'/singleLetters.mat')\n",
    "    dat = scipy.io.loadmat(rootDir+'RNNTrainingSteps/Step3_SyntheticSentences/HeldOutBlocks/'+dataDir+'_snippets.mat')\n",
    "    # dat = scipy.io.loadmat(rootDir+'RNNTrainingSteps/Step2_HMMLabels/HeldOutTrials/'+dataDir+'_snippets.mat')\n",
    "    # dat = scipy.io.loadmat(rootDir+'RNNTrainingSteps/Step1_TimeWarping/'+dataDir+'_warpedCubes.mat')\n",
    "    if os.path.exists('./snippet_library'):\n",
    "        pass\n",
    "    else:\n",
    "        os.mkdir('./snippet_library')\n",
    "    saveDir = '{}snippet_library/{}'.format(rootDir, dataDir)\n",
    "    if os.path.exists(saveDir):\n",
    "        pass\n",
    "    else:\n",
    "        os.mkdir(saveDir)\n",
    "    print(dataDir)\n",
    "\n",
    "    for char in charDef['charList']:\n",
    "        charDir = '{}/{}'.format(saveDir, char)\n",
    "        print(char)\n",
    "        if os.path.exists(charDir):\n",
    "            pass\n",
    "        else:\n",
    "            os.mkdir(charDir)\n",
    "\n",
    "            neuralCube = dat[char] #.astype(np.float64)\n",
    "            firstTrial = neuralCube[0,:]\n",
    "\n",
    "            for i in range(len(firstTrial)):\n",
    "                plotter = np.array(firstTrial[i]).transpose()\n",
    "                \n",
    "            # print(char)\n",
    "                plt.figure()\n",
    "                # plt.title(char, loc = 'left')\n",
    "                # plt.xlabel(\"Time\")\n",
    "                # plt.ylabel(\"Electrodes\")\n",
    "                plt.imshow(plotter, cmap='binary')\n",
    "                plt.savefig('{}/{}.png'.format(charDir, str(i)))\n",
    "                plt.close()\n",
    "        \n",
    "    "
   ]
  }
 ],
 "metadata": {
  "kernelspec": {
   "display_name": "Python 3.6.13 ('mind_reading_env')",
   "language": "python",
   "name": "python3"
  },
  "language_info": {
   "codemirror_mode": {
    "name": "ipython",
    "version": 3
   },
   "file_extension": ".py",
   "mimetype": "text/x-python",
   "name": "python",
   "nbconvert_exporter": "python",
   "pygments_lexer": "ipython3",
   "version": "3.6.13"
  },
  "orig_nbformat": 4,
  "vscode": {
   "interpreter": {
    "hash": "6b743f2a7180de5214d10253310246d0cbc1498254ea4097353e05ea5bf75b38"
   }
  }
 },
 "nbformat": 4,
 "nbformat_minor": 2
}
